{
 "cells": [
  {
   "cell_type": "code",
   "execution_count": null,
   "id": "55c8afde-9b18-4b6a-9ee5-33924bdb4f16",
   "metadata": {},
   "outputs": [],
   "source": [
    "# REST Inference"
   ]
  },
  {
   "cell_type": "markdown",
   "id": "2c004acc-13cd-4917-8480-592c7c2d623b",
   "metadata": {},
   "source": [
    "## Setup\n",
    "\n",
    "Change that following variable settings match your deployed model's *Inference endpoint*. for example: \n",
    "\n",
    "```\n",
    "deployed_model_name = \"fraud\"\n",
    "infer_endpoint = \"https://fraud-predictor-userx-workshop.apps.clusterx.sandboxx.opentlc.com\"\n",
    "```"
   ]
  },
  {
   "cell_type": "code",
   "execution_count": 15,
   "id": "0de65d02-84a6-4cff-882e-551cdd42b486",
   "metadata": {},
   "outputs": [],
   "source": [
    "deployed_model_name = \"fraud\"\n",
    "infer_endpoint = \"https://fraud-fraud-detection-eder.apps.elyra-ide.osp.rh-ods.com\"\n",
    "infer_url = f\"{infer_endpoint}/v2/models/{deployed_model_name}/infer\""
   ]
  },
  {
   "cell_type": "markdown",
   "id": "d94f9ece-e9cf-44e2-a8a2-73160186aee8",
   "metadata": {},
   "source": [
    "## Request Function\n",
    "\n",
    "Build and submit the REST request. \n",
    "\n",
    "Note: You submit the data in the same format that you used for an ONNX inference."
   ]
  },
  {
   "cell_type": "code",
   "execution_count": 16,
   "id": "aba26dea-8db2-48a8-abc8-6af2aca784cb",
   "metadata": {
    "tags": []
   },
   "outputs": [],
   "source": [
    "import requests\n",
    "\n",
    "\n",
    "def rest_request(data):\n",
    "    json_data = {\n",
    "        \"inputs\": [\n",
    "            {\n",
    "                \"name\": \"x\",\n",
    "                \"shape\": [1, 5],\n",
    "                \"datatype\": \"FP32\",\n",
    "                \"data\": data\n",
    "            }\n",
    "        ]\n",
    "    }\n",
    "\n",
    "    response = requests.post(infer_url, json=json_data, verify=False) \n",
    "    \n",
    "    # Check the response content for debugging\n",
    "    print(\"Response content:\", response.content)  # Print the raw response\n",
    "    response_dict = response.json()\n",
    "    return response_dict['outputs'][0]['data']"
   ]
  },
  {
   "cell_type": "code",
   "execution_count": 17,
   "id": "5f871f12",
   "metadata": {},
   "outputs": [],
   "source": [
    "#Load the scaler\n",
    "import pickle\n",
    "with open('artifact/scaler.pkl', 'rb') as handle:\n",
    "    scaler = pickle.load(handle)"
   ]
  },
  {
   "cell_type": "code",
   "execution_count": 18,
   "id": "45ad16ac-23da-48bd-9796-f8e4cacae981",
   "metadata": {},
   "outputs": [
    {
     "name": "stdout",
     "output_type": "stream",
     "text": [
      "Response content: b'{\\n    \"model_name\": \"fraud\",\\n    \"model_version\": \"1\",\\n    \"outputs\": [{\\n            \"name\": \"Identity:0\",\\n            \"shape\": [1, 1],\\n            \"datatype\": \"FP32\",\\n            \"data\": [0.0027730322908610107]\\n        }]\\n}'\n"
     ]
    },
    {
     "name": "stderr",
     "output_type": "stream",
     "text": [
      "/opt/app-root/lib64/python3.11/site-packages/urllib3/connectionpool.py:1064: InsecureRequestWarning: Unverified HTTPS request is being made to host 'fraud-fraud-detection-eder.apps.elyra-ide.osp.rh-ods.com'. Adding certificate verification is strongly advised. See: https://urllib3.readthedocs.io/en/1.26.x/advanced-usage.html#ssl-warnings\n",
      "  warnings.warn(\n"
     ]
    },
    {
     "data": {
      "text/plain": [
       "[0.0027730322908610106]"
      ]
     },
     "execution_count": 18,
     "metadata": {},
     "output_type": "execute_result"
    }
   ],
   "source": [
    "data = [0.3111400080477545, 1.9459399775518593, 1.0, 0.0, 0.0]\n",
    "prediction = rest_request(scaler.transform([data]).tolist()[0])\n",
    "prediction"
   ]
  },
  {
   "cell_type": "code",
   "execution_count": 19,
   "id": "1d66e0f7-4d4e-4879-bdf1-36b712432fd9",
   "metadata": {},
   "outputs": [
    {
     "name": "stdout",
     "output_type": "stream",
     "text": [
      "not fraud\n"
     ]
    }
   ],
   "source": [
    "threshhold = 0.95\n",
    "\n",
    "if (prediction[0] > threshhold):\n",
    "    print('fraud')\n",
    "else:\n",
    "    print('not fraud')"
   ]
  },
  {
   "cell_type": "markdown",
   "id": "5f7b17c0",
   "metadata": {},
   "source": [
    "## Example 1: user buys a coffee\n",
    "\n",
    "In this example, the user is buying a coffee. The parameters given to the model are:\n",
    "* same location as the last transaction (distance=0)\n",
    "* same median price as the last transaction (ratio_to_median=1)\n",
    "* using a pin number (pin=1)\n",
    "* using the credit card chip (chip=1)\n",
    "* not an online transaction (online=0)"
   ]
  },
  {
   "cell_type": "code",
   "execution_count": 13,
   "id": "f0a68b67-b109-4a2f-b097-092f4a4d25ce",
   "metadata": {},
   "outputs": [
    {
     "name": "stdout",
     "output_type": "stream",
     "text": [
      "Response content: b'{\\n    \"model_name\": \"fraud\",\\n    \"model_version\": \"1\",\\n    \"outputs\": [{\\n            \"name\": \"Identity:0\",\\n            \"shape\": [1, 1],\\n            \"datatype\": \"FP32\",\\n            \"data\": [2.469630888679575e-10]\\n        }]\\n}'\n",
      "The model predicts that this is not fraud\n"
     ]
    },
    {
     "name": "stderr",
     "output_type": "stream",
     "text": [
      "/opt/app-root/lib64/python3.11/site-packages/urllib3/connectionpool.py:1064: InsecureRequestWarning: Unverified HTTPS request is being made to host 'fraud-fraud-detection-eder.apps.elyra-ide.osp.rh-ods.com'. Adding certificate verification is strongly advised. See: https://urllib3.readthedocs.io/en/1.26.x/advanced-usage.html#ssl-warnings\n",
      "  warnings.warn(\n"
     ]
    }
   ],
   "source": [
    "data = [0.0, 1.0, 1.0, 1.0, 0.0]\n",
    "prediction = rest_request(scaler.transform([data]).tolist()[0])\n",
    "prediction\n",
    "threshhold = 0.95\n",
    "\n",
    "if (prediction[0] > threshhold):\n",
    "    print('The model predicts that this is fraud')\n",
    "else:\n",
    "    print('The model predicts that this is not fraud')"
   ]
  },
  {
   "cell_type": "markdown",
   "id": "db10b280",
   "metadata": {},
   "source": [
    "## Example 2: fraudulent transaction\n",
    "\n",
    "In this example, someone stole the user's credit card and is buying something online. The parameters given to the model are:\n",
    "* very far away from the last transaction (distance=100)\n",
    "* median price similar to the last transaction (ratio_to_median=1.2)\n",
    "* not using a pin number (pin=0)\n",
    "* not using the credit card chip (chip=0)\n",
    "* is an online transaction (online=1)"
   ]
  },
  {
   "cell_type": "code",
   "execution_count": 14,
   "id": "219b8927",
   "metadata": {
    "tags": []
   },
   "outputs": [
    {
     "name": "stdout",
     "output_type": "stream",
     "text": [
      "Response content: b'{\\n    \"model_name\": \"fraud\",\\n    \"model_version\": \"1\",\\n    \"outputs\": [{\\n            \"name\": \"Identity:0\",\\n            \"shape\": [1, 1],\\n            \"datatype\": \"FP32\",\\n            \"data\": [0.9953203201293945]\\n        }]\\n}'\n",
      "The model predicts that this is fraud\n"
     ]
    },
    {
     "name": "stderr",
     "output_type": "stream",
     "text": [
      "/opt/app-root/lib64/python3.11/site-packages/urllib3/connectionpool.py:1064: InsecureRequestWarning: Unverified HTTPS request is being made to host 'fraud-fraud-detection-eder.apps.elyra-ide.osp.rh-ods.com'. Adding certificate verification is strongly advised. See: https://urllib3.readthedocs.io/en/1.26.x/advanced-usage.html#ssl-warnings\n",
      "  warnings.warn(\n"
     ]
    }
   ],
   "source": [
    "data = [100, 1.2, 0.0, 0.0, 1.0]\n",
    "prediction = rest_request(scaler.transform([data]).tolist()[0])\n",
    "prediction\n",
    "threshhold = 0.95\n",
    "\n",
    "if (prediction[0] > threshhold):\n",
    "    print('The model predicts that this is fraud')\n",
    "else:\n",
    "    print('The model predicts that this is not fraud')"
   ]
  },
  {
   "cell_type": "code",
   "execution_count": null,
   "id": "52bf16b8-67b3-4379-b87a-be4253eb587a",
   "metadata": {},
   "outputs": [],
   "source": []
  }
 ],
 "metadata": {
  "kernelspec": {
   "display_name": "Python 3.11",
   "language": "python",
   "name": "python3"
  },
  "language_info": {
   "codemirror_mode": {
    "name": "ipython",
    "version": 3
   },
   "file_extension": ".py",
   "mimetype": "text/x-python",
   "name": "python",
   "nbconvert_exporter": "python",
   "pygments_lexer": "ipython3",
   "version": "3.11.7"
  }
 },
 "nbformat": 4,
 "nbformat_minor": 5
}
