{
 "cells": [
  {
   "cell_type": "code",
   "execution_count": 1,
   "id": "368c825a-4a6b-45cc-b1b3-90a3dfbdbe09",
   "metadata": {},
   "outputs": [
    {
     "name": "stdout",
     "output_type": "stream",
     "text": [
      "Dora and Bella\n"
     ]
    }
   ],
   "source": [
    "print(\"Dora and Bella\")"
   ]
  },
  {
   "cell_type": "code",
   "execution_count": null,
   "id": "3d1d7b17-9e1f-4788-9884-1ac828e8beb9",
   "metadata": {},
   "outputs": [],
   "source": []
  }
 ],
 "metadata": {
  "kernelspec": {
   "display_name": "Python 3.11",
   "language": "python",
   "name": "python3"
  },
  "language_info": {
   "codemirror_mode": {
    "name": "ipython",
    "version": 3
   },
   "file_extension": ".py",
   "mimetype": "text/x-python",
   "name": "python",
   "nbconvert_exporter": "python",
   "pygments_lexer": "ipython3",
   "version": "3.11.7"
  }
 },
 "nbformat": 4,
 "nbformat_minor": 5
}
